{
 "cells": [
  {
   "cell_type": "markdown",
   "metadata": {},
   "source": [
    "## Process Tetrahymena's UTRs"
   ]
  },
  {
   "cell_type": "code",
   "execution_count": 31,
   "metadata": {},
   "outputs": [
    {
     "data": {
      "text/html": [
       "<div>\n",
       "<style scoped>\n",
       "    .dataframe tbody tr th:only-of-type {\n",
       "        vertical-align: middle;\n",
       "    }\n",
       "\n",
       "    .dataframe tbody tr th {\n",
       "        vertical-align: top;\n",
       "    }\n",
       "\n",
       "    .dataframe thead th {\n",
       "        text-align: right;\n",
       "    }\n",
       "</style>\n",
       "<table border=\"1\" class=\"dataframe\">\n",
       "  <thead>\n",
       "    <tr style=\"text-align: right;\">\n",
       "      <th></th>\n",
       "      <th>stop</th>\n",
       "      <th>tandemPos</th>\n",
       "      <th>hasTandem</th>\n",
       "      <th>counter</th>\n",
       "    </tr>\n",
       "    <tr>\n",
       "      <th>gene</th>\n",
       "      <th></th>\n",
       "      <th></th>\n",
       "      <th></th>\n",
       "      <th></th>\n",
       "    </tr>\n",
       "  </thead>\n",
       "  <tbody>\n",
       "    <tr>\n",
       "      <th>TTHERM_01431530</th>\n",
       "      <td>TGA</td>\n",
       "      <td>0</td>\n",
       "      <td>0</td>\n",
       "      <td>1</td>\n",
       "    </tr>\n",
       "    <tr>\n",
       "      <th>TTHERM_001431536</th>\n",
       "      <td>TGA</td>\n",
       "      <td>0</td>\n",
       "      <td>0</td>\n",
       "      <td>1</td>\n",
       "    </tr>\n",
       "    <tr>\n",
       "      <th>TTHERM_01431550</th>\n",
       "      <td>TGA</td>\n",
       "      <td>0</td>\n",
       "      <td>0</td>\n",
       "      <td>1</td>\n",
       "    </tr>\n",
       "    <tr>\n",
       "      <th>TTHERM_01431560</th>\n",
       "      <td>TGA</td>\n",
       "      <td>0</td>\n",
       "      <td>0</td>\n",
       "      <td>1</td>\n",
       "    </tr>\n",
       "    <tr>\n",
       "      <th>TTHERM_01431570</th>\n",
       "      <td>TGA</td>\n",
       "      <td>0</td>\n",
       "      <td>0</td>\n",
       "      <td>1</td>\n",
       "    </tr>\n",
       "  </tbody>\n",
       "</table>\n",
       "</div>"
      ],
      "text/plain": [
       "                 stop  tandemPos  hasTandem  counter\n",
       "gene                                                \n",
       "TTHERM_01431530   TGA          0          0        1\n",
       "TTHERM_001431536  TGA          0          0        1\n",
       "TTHERM_01431550   TGA          0          0        1\n",
       "TTHERM_01431560   TGA          0          0        1\n",
       "TTHERM_01431570   TGA          0          0        1"
      ]
     },
     "execution_count": 31,
     "metadata": {},
     "output_type": "execute_result"
    }
   ],
   "source": [
    "import os\n",
    "import pandas as pd\n",
    "import math\n",
    "utrSize = 20\n",
    "numberOfPositions = utrSize // 3\n",
    "\n",
    "filein = open('Tetrahymena_thermophila.utr20','r')\n",
    "stops = ['TGA']\n",
    "#Calculate frequency of stops in the 3' UTRs\n",
    "\n",
    "tandems = []\n",
    "\n",
    "filein.readline()\n",
    "for line in filein:\n",
    "    num, name, realStop, utr, seq = line.split()\n",
    "    utr = utr.upper()\n",
    "    tandem = 0\n",
    "    for i in range(numberOfPositions):\n",
    "        current = utr[i*3:i*3+3]\n",
    "        if current in stops:\n",
    "            tandem = i + 1\n",
    "            break\n",
    "    found = 0\n",
    "    if tandem:\n",
    "        found = 1\n",
    "    tandems.append([name, realStop,tandem,found,1])\n",
    "\n",
    "filein.close()\n",
    "\n",
    "tandemDF = pd.DataFrame(tandems, columns=['gene','stop','tandemPos',\n",
    "                                         'hasTandem','counter'])\n",
    "\n",
    "tandemDF.set_index('gene',inplace=True)\n",
    "tandemDF.head()"
   ]
  },
  {
   "cell_type": "code",
   "execution_count": 32,
   "metadata": {},
   "outputs": [
    {
     "data": {
      "text/html": [
       "<div>\n",
       "<style scoped>\n",
       "    .dataframe tbody tr th:only-of-type {\n",
       "        vertical-align: middle;\n",
       "    }\n",
       "\n",
       "    .dataframe tbody tr th {\n",
       "        vertical-align: top;\n",
       "    }\n",
       "\n",
       "    .dataframe thead th {\n",
       "        text-align: right;\n",
       "    }\n",
       "</style>\n",
       "<table border=\"1\" class=\"dataframe\">\n",
       "  <thead>\n",
       "    <tr style=\"text-align: right;\">\n",
       "      <th></th>\n",
       "      <th>CAI</th>\n",
       "    </tr>\n",
       "    <tr>\n",
       "      <th>gene</th>\n",
       "      <th></th>\n",
       "    </tr>\n",
       "  </thead>\n",
       "  <tbody>\n",
       "    <tr>\n",
       "      <th>TTHERM_000994399</th>\n",
       "      <td>0.401820</td>\n",
       "    </tr>\n",
       "    <tr>\n",
       "      <th>TTHERM_00994140</th>\n",
       "      <td>0.405599</td>\n",
       "    </tr>\n",
       "    <tr>\n",
       "      <th>TTHERM_00994360</th>\n",
       "      <td>0.400522</td>\n",
       "    </tr>\n",
       "    <tr>\n",
       "      <th>TTHERM_00994330</th>\n",
       "      <td>0.359434</td>\n",
       "    </tr>\n",
       "    <tr>\n",
       "      <th>TTHERM_00994200</th>\n",
       "      <td>0.394859</td>\n",
       "    </tr>\n",
       "  </tbody>\n",
       "</table>\n",
       "</div>"
      ],
      "text/plain": [
       "                       CAI\n",
       "gene                      \n",
       "TTHERM_000994399  0.401820\n",
       "TTHERM_00994140   0.405599\n",
       "TTHERM_00994360   0.400522\n",
       "TTHERM_00994330   0.359434\n",
       "TTHERM_00994200   0.394859"
      ]
     },
     "execution_count": 32,
     "metadata": {},
     "output_type": "execute_result"
    }
   ],
   "source": [
    "CAIs = pd.read_csv('tetCodonBias.tsv',sep='\\t',index_col =0)\n",
    "CAIs.set_index('gene',inplace=True)\n",
    "CAIs.head()"
   ]
  },
  {
   "cell_type": "code",
   "execution_count": 40,
   "metadata": {},
   "outputs": [
    {
     "data": {
      "text/html": [
       "<div>\n",
       "<style scoped>\n",
       "    .dataframe tbody tr th:only-of-type {\n",
       "        vertical-align: middle;\n",
       "    }\n",
       "\n",
       "    .dataframe tbody tr th {\n",
       "        vertical-align: top;\n",
       "    }\n",
       "\n",
       "    .dataframe thead th {\n",
       "        text-align: right;\n",
       "    }\n",
       "</style>\n",
       "<table border=\"1\" class=\"dataframe\">\n",
       "  <thead>\n",
       "    <tr style=\"text-align: right;\">\n",
       "      <th></th>\n",
       "      <th>hasTandem</th>\n",
       "      <th>counter</th>\n",
       "      <th>CAI</th>\n",
       "    </tr>\n",
       "    <tr>\n",
       "      <th>gene</th>\n",
       "      <th></th>\n",
       "      <th></th>\n",
       "      <th></th>\n",
       "    </tr>\n",
       "  </thead>\n",
       "  <tbody>\n",
       "    <tr>\n",
       "      <th>TTHERM_01431530</th>\n",
       "      <td>0</td>\n",
       "      <td>1</td>\n",
       "      <td>0.519211</td>\n",
       "    </tr>\n",
       "    <tr>\n",
       "      <th>TTHERM_001431536</th>\n",
       "      <td>0</td>\n",
       "      <td>1</td>\n",
       "      <td>0.341275</td>\n",
       "    </tr>\n",
       "    <tr>\n",
       "      <th>TTHERM_01431550</th>\n",
       "      <td>0</td>\n",
       "      <td>1</td>\n",
       "      <td>0.308122</td>\n",
       "    </tr>\n",
       "    <tr>\n",
       "      <th>TTHERM_01431560</th>\n",
       "      <td>0</td>\n",
       "      <td>1</td>\n",
       "      <td>0.335164</td>\n",
       "    </tr>\n",
       "    <tr>\n",
       "      <th>TTHERM_01431570</th>\n",
       "      <td>0</td>\n",
       "      <td>1</td>\n",
       "      <td>0.451342</td>\n",
       "    </tr>\n",
       "  </tbody>\n",
       "</table>\n",
       "</div>"
      ],
      "text/plain": [
       "                  hasTandem  counter       CAI\n",
       "gene                                          \n",
       "TTHERM_01431530           0        1  0.519211\n",
       "TTHERM_001431536          0        1  0.341275\n",
       "TTHERM_01431550           0        1  0.308122\n",
       "TTHERM_01431560           0        1  0.335164\n",
       "TTHERM_01431570           0        1  0.451342"
      ]
     },
     "execution_count": 40,
     "metadata": {},
     "output_type": "execute_result"
    }
   ],
   "source": [
    "allData = tandemDF.join(CAIs, how='left')[['hasTandem','counter','CAI']]\n",
    "allData.head()"
   ]
  },
  {
   "cell_type": "code",
   "execution_count": 41,
   "metadata": {},
   "outputs": [
    {
     "data": {
      "text/html": [
       "<div>\n",
       "<style scoped>\n",
       "    .dataframe tbody tr th:only-of-type {\n",
       "        vertical-align: middle;\n",
       "    }\n",
       "\n",
       "    .dataframe tbody tr th {\n",
       "        vertical-align: top;\n",
       "    }\n",
       "\n",
       "    .dataframe thead th {\n",
       "        text-align: right;\n",
       "    }\n",
       "</style>\n",
       "<table border=\"1\" class=\"dataframe\">\n",
       "  <thead>\n",
       "    <tr style=\"text-align: right;\">\n",
       "      <th></th>\n",
       "      <th>hasTandem</th>\n",
       "      <th>counter</th>\n",
       "      <th>CAI</th>\n",
       "    </tr>\n",
       "  </thead>\n",
       "  <tbody>\n",
       "    <tr>\n",
       "      <th>count</th>\n",
       "      <td>26498.000000</td>\n",
       "      <td>26498.0</td>\n",
       "      <td>26498.000000</td>\n",
       "    </tr>\n",
       "    <tr>\n",
       "      <th>mean</th>\n",
       "      <td>0.114952</td>\n",
       "      <td>1.0</td>\n",
       "      <td>0.419189</td>\n",
       "    </tr>\n",
       "    <tr>\n",
       "      <th>std</th>\n",
       "      <td>0.318970</td>\n",
       "      <td>0.0</td>\n",
       "      <td>0.078755</td>\n",
       "    </tr>\n",
       "    <tr>\n",
       "      <th>min</th>\n",
       "      <td>0.000000</td>\n",
       "      <td>1.0</td>\n",
       "      <td>0.110821</td>\n",
       "    </tr>\n",
       "    <tr>\n",
       "      <th>25%</th>\n",
       "      <td>0.000000</td>\n",
       "      <td>1.0</td>\n",
       "      <td>0.379082</td>\n",
       "    </tr>\n",
       "    <tr>\n",
       "      <th>50%</th>\n",
       "      <td>0.000000</td>\n",
       "      <td>1.0</td>\n",
       "      <td>0.402070</td>\n",
       "    </tr>\n",
       "    <tr>\n",
       "      <th>75%</th>\n",
       "      <td>0.000000</td>\n",
       "      <td>1.0</td>\n",
       "      <td>0.435587</td>\n",
       "    </tr>\n",
       "    <tr>\n",
       "      <th>max</th>\n",
       "      <td>1.000000</td>\n",
       "      <td>1.0</td>\n",
       "      <td>0.946254</td>\n",
       "    </tr>\n",
       "  </tbody>\n",
       "</table>\n",
       "</div>"
      ],
      "text/plain": [
       "          hasTandem  counter           CAI\n",
       "count  26498.000000  26498.0  26498.000000\n",
       "mean       0.114952      1.0      0.419189\n",
       "std        0.318970      0.0      0.078755\n",
       "min        0.000000      1.0      0.110821\n",
       "25%        0.000000      1.0      0.379082\n",
       "50%        0.000000      1.0      0.402070\n",
       "75%        0.000000      1.0      0.435587\n",
       "max        1.000000      1.0      0.946254"
      ]
     },
     "execution_count": 41,
     "metadata": {},
     "output_type": "execute_result"
    }
   ],
   "source": [
    "allData.describe()"
   ]
  },
  {
   "cell_type": "code",
   "execution_count": 42,
   "metadata": {},
   "outputs": [],
   "source": [
    "# get the quartiles of the CAI distribution\n",
    "bins = np.array([0,\n",
    "                 allData.describe()['CAI']['25%'],\n",
    "                 allData.describe()['CAI']['50%'],\n",
    "                 allData.describe()['CAI']['75%'],\n",
    "                 1])"
   ]
  },
  {
   "cell_type": "code",
   "execution_count": 44,
   "metadata": {},
   "outputs": [
    {
     "data": {
      "text/html": [
       "<div>\n",
       "<style scoped>\n",
       "    .dataframe tbody tr th:only-of-type {\n",
       "        vertical-align: middle;\n",
       "    }\n",
       "\n",
       "    .dataframe tbody tr th {\n",
       "        vertical-align: top;\n",
       "    }\n",
       "\n",
       "    .dataframe thead th {\n",
       "        text-align: right;\n",
       "    }\n",
       "</style>\n",
       "<table border=\"1\" class=\"dataframe\">\n",
       "  <thead>\n",
       "    <tr style=\"text-align: right;\">\n",
       "      <th></th>\n",
       "      <th>hasTandem</th>\n",
       "      <th>counter</th>\n",
       "    </tr>\n",
       "    <tr>\n",
       "      <th>ind</th>\n",
       "      <th></th>\n",
       "      <th></th>\n",
       "    </tr>\n",
       "  </thead>\n",
       "  <tbody>\n",
       "    <tr>\n",
       "      <th>1</th>\n",
       "      <td>650</td>\n",
       "      <td>6625</td>\n",
       "    </tr>\n",
       "    <tr>\n",
       "      <th>2</th>\n",
       "      <td>703</td>\n",
       "      <td>6624</td>\n",
       "    </tr>\n",
       "    <tr>\n",
       "      <th>3</th>\n",
       "      <td>722</td>\n",
       "      <td>6624</td>\n",
       "    </tr>\n",
       "    <tr>\n",
       "      <th>4</th>\n",
       "      <td>971</td>\n",
       "      <td>6625</td>\n",
       "    </tr>\n",
       "  </tbody>\n",
       "</table>\n",
       "</div>"
      ],
      "text/plain": [
       "     hasTandem  counter\n",
       "ind                    \n",
       "1          650     6625\n",
       "2          703     6624\n",
       "3          722     6624\n",
       "4          971     6625"
      ]
     },
     "execution_count": 44,
     "metadata": {},
     "output_type": "execute_result"
    }
   ],
   "source": [
    "import numpy as np\n",
    "\n",
    "#use the quartiles \n",
    "#bins =  np.array([0,0.379082,0.402070,0.435587,1])\n",
    "ind = np.digitize(allData['CAI'],bins)\n",
    "\n",
    "allData['ind'] = ind\n",
    "\n",
    "result = allData.groupby(by='ind').sum()[['hasTandem','counter']]\n",
    "result"
   ]
  },
  {
   "cell_type": "code",
   "execution_count": 46,
   "metadata": {},
   "outputs": [
    {
     "name": "stdout",
     "output_type": "stream",
     "text": [
      "971 5654\n",
      "761.5574760359273 5863.442523964072\n"
     ]
    }
   ],
   "source": [
    "obsTSC = result['hasTandem'][4]\n",
    "obsNo = result['counter'][4] - result['hasTandem'][4]\n",
    "expFreq = (allData.sum()['hasTandem']/allData.sum()['counter'])\n",
    "expTSC = result['counter'][4] * expFreq\n",
    "expNo = result['counter'][4] * (1-expFreq)\n",
    "\n",
    "print(obsTSC, obsNo)\n",
    "print(expTSC, expNo)"
   ]
  },
  {
   "cell_type": "code",
   "execution_count": 49,
   "metadata": {},
   "outputs": [
    {
     "data": {
      "text/plain": [
       "Power_divergenceResult(statistic=65.08190402881675, pvalue=7.184884221225469e-16)"
      ]
     },
     "execution_count": 49,
     "metadata": {},
     "output_type": "execute_result"
    }
   ],
   "source": [
    "from scipy.stats import chisquare\n",
    "obs = [obsTSC,obsNo]\n",
    "exp = [expTSC,expNo]\n",
    "chisquare(obs,exp)"
   ]
  },
  {
   "cell_type": "code",
   "execution_count": null,
   "metadata": {},
   "outputs": [],
   "source": []
  }
 ],
 "metadata": {
  "hide_input": false,
  "kernelspec": {
   "display_name": "Python 3",
   "language": "python",
   "name": "python3"
  },
  "language_info": {
   "codemirror_mode": {
    "name": "ipython",
    "version": 3
   },
   "file_extension": ".py",
   "mimetype": "text/x-python",
   "name": "python",
   "nbconvert_exporter": "python",
   "pygments_lexer": "ipython3",
   "version": "3.6.5"
  },
  "toc": {
   "base_numbering": 1,
   "nav_menu": {},
   "number_sections": true,
   "sideBar": true,
   "skip_h1_title": false,
   "title_cell": "Table of Contents",
   "title_sidebar": "Contents",
   "toc_cell": false,
   "toc_position": {},
   "toc_section_display": true,
   "toc_window_display": false
  },
  "varInspector": {
   "cols": {
    "lenName": 16,
    "lenType": 16,
    "lenVar": 40
   },
   "kernels_config": {
    "python": {
     "delete_cmd_postfix": "",
     "delete_cmd_prefix": "del ",
     "library": "var_list.py",
     "varRefreshCmd": "print(var_dic_list())"
    },
    "r": {
     "delete_cmd_postfix": ") ",
     "delete_cmd_prefix": "rm(",
     "library": "var_list.r",
     "varRefreshCmd": "cat(var_dic_list()) "
    }
   },
   "types_to_exclude": [
    "module",
    "function",
    "builtin_function_or_method",
    "instance",
    "_Feature"
   ],
   "window_display": false
  }
 },
 "nbformat": 4,
 "nbformat_minor": 2
}
