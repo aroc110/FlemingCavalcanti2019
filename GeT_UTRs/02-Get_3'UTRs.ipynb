{
 "cells": [
  {
   "cell_type": "markdown",
   "metadata": {},
   "source": [
    "# Get 3' UTRs"
   ]
  },
  {
   "cell_type": "markdown",
   "metadata": {},
   "source": [
    "## Check that all the files are present"
   ]
  },
  {
   "cell_type": "code",
   "execution_count": null,
   "metadata": {},
   "outputs": [],
   "source": [
    "import os\n",
    "import pandas as pd\n",
    "\n",
    "info = pd.read_excel('GenomeInfo.xlsx')\n",
    "\n",
    "for number, organism in info.iterrows():\n",
    "    if organism['GFF File'].endswith('.gz'):\n",
    "        organism['GFF File'] = organism['GFF File'][0:-3]\n",
    "        organism['Assembly File'] = organism['Assembly File'][0:-3]\n",
    "    \n",
    "    if organism['Organism'].startswith('Euplotes'):\n",
    "        continue\n",
    "    if (os.path.exists('GenomesAndGFFs/'+organism['GFF File']) and\n",
    "        os.path.exists('GenomesAndGFFs/'+organism['Assembly File'])):\n",
    "        #print(organism['Organism'],': OK')\n",
    "        continue\n",
    "    else:\n",
    "        print(organism['Organism'],': Not OK')\n",
    "    #print(organism['Organism'],organism['GFF File'],organism['Assembly File'])\n"
   ]
  },
  {
   "cell_type": "markdown",
   "metadata": {},
   "source": [
    "## Process each organism and save the 3' UTR"
   ]
  },
  {
   "cell_type": "code",
   "execution_count": null,
   "metadata": {},
   "outputs": [],
   "source": [
    "from Bio import SeqIO\n",
    "import re\n",
    "import functionsUTR as utr\n",
    "utrSize = 20"
   ]
  },
  {
   "cell_type": "code",
   "execution_count": null,
   "metadata": {
    "scrolled": false
   },
   "outputs": [],
   "source": [
    "allInfo = []\n",
    "for number, organism in info.iterrows():\n",
    "    if organism['Organism'].startswith('Euplotes'):\n",
    "        continue\n",
    "    org = organism['Organism']\n",
    "    gffFile = 'GenomesAndGFFs/' + organism['GFF File']\n",
    "    if gffFile.endswith('.gz'):\n",
    "        gffFile = gffFile[0:-3]\n",
    "    fasFile = 'GenomesAndGFFs/' + organism['Assembly File']\n",
    "    if fasFile.endswith('.gz'):\n",
    "        fasFile = fasFile[0:-3]\n",
    "    marker = organism['GFF Marker']\n",
    "    gffType = organism['Feature']\n",
    "    utrFile = 'utrs/' + organism['Base Name'] + '.utr' + str(utrSize)\n",
    "    stops = organism['GeneticCode']\n",
    "    \n",
    "    fasta_dic = utr.parse_fasta(fasFile)\n",
    "    gff = utr.process_gff(gffFile,marker,gffType)\n",
    "    utrs, details = utr.get_UTRs(org,gff,fasta_dic,stops,utrSize,\n",
    "                       utrFile)\n",
    "    print(details[0:8])\n",
    "    allInfo.append(details)"
   ]
  },
  {
   "cell_type": "markdown",
   "metadata": {},
   "source": [
    "## Euplotes"
   ]
  },
  {
   "cell_type": "markdown",
   "metadata": {},
   "source": [
    "For each CDS get the last 20 bases and search for them in the corresponding chromosome. Find out how many times in the chromosome each 20-mer appear if only one keep it. Otherwise if it does not or is repeated discard."
   ]
  },
  {
   "cell_type": "code",
   "execution_count": null,
   "metadata": {},
   "outputs": [],
   "source": [
    "cdss = utr.parse_fasta(\"GenomesAndGFFs/Euplotes_Octocarinatus_CDS.fasta\")\n",
    "chrom = utr.parse_fasta(\"GenomesAndGFFs/Euplotes_Octocarinatus.fasta\")\n",
    "\n",
    "for name, seq in chrom.items():\n",
    "    chrom[name] = (seq, utr.reverse_complement(seq))\n",
    "    \n",
    "import re\n",
    "\n",
    "countAll = 0\n",
    "countNotFound = 0\n",
    "countRev = 0\n",
    "countFor = 0\n",
    "countRev2 = 0\n",
    "countFor2 = 0\n",
    "countFoundMul = 0\n",
    "countFoundBoth = 0\n",
    "\n",
    "utrs = []\n",
    "matchLen = 20\n",
    "utrLen = 20\n",
    "\n",
    "for name, seq in cdss.items():\n",
    "    chromo = name.split('.')[0]\n",
    "    forward = chrom[chromo][0]\n",
    "    reverse = chrom[chromo][1]\n",
    "    countAll += 1\n",
    "    pattern = seq[-matchLen:]\n",
    "    foundF = re.findall(pattern,forward)\n",
    "    foundR = re.findall(pattern,reverse)\n",
    "    \n",
    "    if len(foundF) == 1 and len(foundR) == 0:\n",
    "        countFor += 1\n",
    "        match = re.search(pattern,forward)\n",
    "        pos = match.end()\n",
    "        utrs.append([name, forward[pos-3:pos], \n",
    "                     forward[pos:pos+utrLen]])\n",
    "    elif len(foundF) == 0 and len(foundR) == 1:\n",
    "        countRev += 1\n",
    "        match = re.search(pattern,reverse)\n",
    "        pos = match.end()\n",
    "        utrs.append([name, reverse[pos-3:pos], \n",
    "                     reverse[pos:pos+utrLen]])\n",
    "\n",
    "\n",
    "    elif len(foundF) == 0 and len(foundR) == 0:\n",
    "        pattern = seq[-matchLen+11:]\n",
    "        foundF = re.findall(pattern,forward)\n",
    "        foundR = re.findall(pattern,reverse)\n",
    "        if len(foundF) == 1 and len(foundR) == 0:\n",
    "            countFor2 += 1\n",
    "            match = re.search(pattern,forward)\n",
    "            pos = match.end()\n",
    "            utrs.append([name, forward[pos-3:pos], \n",
    "                         forward[pos:pos+utrLen]])\n",
    "        elif len(foundF) == 0 and len(foundR) == 1:\n",
    "            countRev2 += 1\n",
    "            match = re.search(pattern,reverse)\n",
    "            pos = match.end()\n",
    "            utrs.append([name, reverse[pos-3:pos], \n",
    "                         reverse[pos:pos+utrLen]])\n",
    "        else:\n",
    "            countNotFound += 1\n",
    "        #print(name, chromo, len(founds1), len(founds2))\n",
    "    else:\n",
    "        pattern = seq[-matchLen-10:]\n",
    "        foundF = re.findall(pattern,forward)\n",
    "        foundR = re.findall(pattern,reverse)\n",
    "        if len(foundF) == 1 and len(foundR) == 0:\n",
    "            countFor2 += 1\n",
    "            match = re.search(pattern,forward)\n",
    "            pos = match.end()\n",
    "            utrs.append([name, forward[pos-3:pos], \n",
    "                         forward[pos:pos+utrLen]])\n",
    "        elif len(foundF) == 0 and len(foundR) == 1:\n",
    "            countRev2 += 1\n",
    "            match = re.search(pattern,reverse)\n",
    "            pos = match.end()\n",
    "            utrs.append([name, reverse[pos-3:pos], \n",
    "                         reverse[pos:pos+utrLen]])\n",
    "        elif len(foundF) > 1 or len(foundR) > 1:\n",
    "            countFoundMul +=1\n",
    "            #print(name, chromo, len(founds1), len(founds2))\n",
    "        else:\n",
    "            countFoundBoth +=1\n",
    "        \n",
    "    #if countAll % 100 == 0:\n",
    "        #print(countAll)\n",
    "\n",
    "utrFrame = pd.DataFrame(utrs, columns = ['Gene','Stop','UTR'])\n",
    "utrFrame.to_csv('utrs/Euplotes_octocarinatus.utr'+str(utrLen),sep='\\t')\n",
    "print(countAll, countNotFound, countRev, countFor, countFor2, countRev2, countFoundMul, countFoundBoth)"
   ]
  },
  {
   "cell_type": "markdown",
   "metadata": {},
   "source": [
    "## Tetrahymena thermophila"
   ]
  },
  {
   "cell_type": "markdown",
   "metadata": {},
   "source": [
    "We have to change the gene names in the Tetrahymena thermophila UTR file to perform further analysis."
   ]
  },
  {
   "cell_type": "code",
   "execution_count": null,
   "metadata": {},
   "outputs": [],
   "source": [
    "gffFile = 'GenomesAndGFFs/' + info[ info['Organism']=='Tetrahymena thermophila' ]['GFF File'].values[0]\n",
    "utrFile = 'utrs/' + info[ info['Organism']=='Tetrahymena thermophila' ]['Base Name'].values[0]+ '.utr' + str(utrSize)\n",
    "print(utrFile)\n",
    "print(gffFile)"
   ]
  },
  {
   "cell_type": "code",
   "execution_count": null,
   "metadata": {},
   "outputs": [],
   "source": [
    "utrs = pd.read_csv(utrFile,sep='\\t')\n",
    "utrs.head()"
   ]
  },
  {
   "cell_type": "code",
   "execution_count": null,
   "metadata": {},
   "outputs": [],
   "source": [
    "filein = open(gffFile)\n",
    "\n",
    "import re\n",
    "\n",
    "mrna = {}\n",
    "cds = {}\n",
    "genes = {}\n",
    "\n",
    "for line in filein:\n",
    "    if not line.startswith('#'):\n",
    "        line = line.strip().split()\n",
    "        if line[2] == 'mRNA':\n",
    "            #ID=mRNA001.1;Parent=gene001.1;Name=1.m000121\n",
    "            temp = re.search(r\"ID=([^;]*);.*Parent=([^;]*)\",line[8])\n",
    "            if temp:\n",
    "                name, parent = temp.group(1,2)\n",
    "                if name in mrna:\n",
    "                    if not parent == mrna[name]:\n",
    "                        print('Problem')\n",
    "                else:\n",
    "                    mrna[name] = parent\n",
    "            else:\n",
    "                print('could not find')\n",
    "        elif line[2] == 'CDS':\n",
    "            #ID=mRNA001.1;Parent=gene001.1;Name=1.m000121\n",
    "            temp = re.search(r\"ID=([^;]*);.*Parent=([^;]*)\",line[8])\n",
    "            if temp:\n",
    "                name, parent = temp.group(1,2)\n",
    "                if name in cds:\n",
    "                    if not parent == cds[name]:\n",
    "                        print('Problem')\n",
    "                else:\n",
    "                    cds[name] = parent\n",
    "            else:\n",
    "                print('could not find')\n",
    "        elif line[2] == 'gene':\n",
    "            #ID=gene001.1;Name=TTHERM_001431529;Note=\"hypothetical protein\"\n",
    "            temp = re.search(r\"ID=([^;]*);.*Name=([^;]*)\",line[8])\n",
    "            if temp:\n",
    "                name, gene = temp.group(1,2)\n",
    "                if name in gene:\n",
    "                    if not gene == genes[name]:\n",
    "                        print('Problem')\n",
    "                else:\n",
    "                    genes[name] = gene\n",
    "            else:\n",
    "                print('could not find')\n",
    "\n",
    "\n",
    "\n",
    "\n",
    "                \n",
    "                \n",
    "# genes:  geneXXX: TTHERM\n",
    "# mrna:   mRNAXXX: geneXXX\n",
    "#cds:     cdsXXX: mRNAXXX\n",
    "utrs = pd.read_csv(utrFile,sep='\\t')\n",
    "\n",
    "newutrs = []\n",
    "for number, info in utrs.iterrows():\n",
    "    gene = info['Gene']\n",
    "    stop = info['Stop']\n",
    "    UTR = info['UTR']\n",
    "    \n",
    "    name = genes[mrna[gene]]\n",
    "    newutrs.append([name, stop, UTR])\n",
    "newutr = pd.DataFrame(newutrs, columns = ['Gene','Stop','UTR'])\n",
    "newutr.to_csv(utrFile, sep=\"\\t\")\n",
    "newutr"
   ]
  },
  {
   "cell_type": "code",
   "execution_count": null,
   "metadata": {},
   "outputs": [],
   "source": []
  }
 ],
 "metadata": {
  "hide_input": false,
  "kernelspec": {
   "display_name": "Python 3",
   "language": "python",
   "name": "python3"
  },
  "language_info": {
   "codemirror_mode": {
    "name": "ipython",
    "version": 3
   },
   "file_extension": ".py",
   "mimetype": "text/x-python",
   "name": "python",
   "nbconvert_exporter": "python",
   "pygments_lexer": "ipython3",
   "version": "3.6.5"
  },
  "toc": {
   "base_numbering": 1,
   "nav_menu": {},
   "number_sections": true,
   "sideBar": true,
   "skip_h1_title": false,
   "title_cell": "Table of Contents",
   "title_sidebar": "Contents",
   "toc_cell": false,
   "toc_position": {},
   "toc_section_display": true,
   "toc_window_display": false
  },
  "varInspector": {
   "cols": {
    "lenName": 16,
    "lenType": 16,
    "lenVar": 40
   },
   "kernels_config": {
    "python": {
     "delete_cmd_postfix": "",
     "delete_cmd_prefix": "del ",
     "library": "var_list.py",
     "varRefreshCmd": "print(var_dic_list())"
    },
    "r": {
     "delete_cmd_postfix": ") ",
     "delete_cmd_prefix": "rm(",
     "library": "var_list.r",
     "varRefreshCmd": "cat(var_dic_list()) "
    }
   },
   "types_to_exclude": [
    "module",
    "function",
    "builtin_function_or_method",
    "instance",
    "_Feature"
   ],
   "window_display": false
  }
 },
 "nbformat": 4,
 "nbformat_minor": 2
}
