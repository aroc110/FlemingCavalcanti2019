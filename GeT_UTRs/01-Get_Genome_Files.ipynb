{
 "cells": [
  {
   "cell_type": "code",
   "execution_count": null,
   "metadata": {},
   "outputs": [],
   "source": [
    "import pandas as pd\n",
    "\n",
    "info = pd.read_excel('GenomeInfo.xlsx')\n",
    "info.head()"
   ]
  },
  {
   "cell_type": "code",
   "execution_count": null,
   "metadata": {},
   "outputs": [],
   "source": [
    "import sys\n",
    "import time\n",
    "import urllib\n",
    "\n",
    "\n",
    "def reporthook(count, block_size, total_size):\n",
    "    global start_time\n",
    "    if count == 0:\n",
    "        start_time = time.time()\n",
    "        return\n",
    "    duration = time.time() - start_time\n",
    "    progress_size = int(count * block_size)\n",
    "    speed = int(progress_size / (1024 * duration))\n",
    "    percent = int(count * block_size * 100 / total_size)\n",
    "    sys.stdout.write(\"\\r...%d%%, %d MB, %d KB/s, %d seconds passed\" %\n",
    "                    (percent, progress_size / (1024 * 1024), speed, duration))\n",
    "    sys.stdout.flush()\n"
   ]
  },
  {
   "cell_type": "code",
   "execution_count": null,
   "metadata": {},
   "outputs": [],
   "source": [
    "import urllib.request\n",
    "import os\n",
    "\n",
    "counter = 0\n",
    "for number, data in info.iterrows():\n",
    "    counter += 1\n",
    "    print('\\n######### ORGANISM NUMBER' + str(counter) + \"   \" + data['Organism'])\n",
    "\n",
    "    if not data['Organism'].startswith(\"Euplotes\"):\n",
    "        gffIn = data['Download Site'] + data['GFF File']\n",
    "        gffOut = 'GenomesAndGFFs/'+ data['GFF File']\n",
    "        fastaIn = data['Download Site'] + data['Assembly File']\n",
    "        fastaOut = 'GenomesAndGFFs/'+ data['Assembly File']\n",
    "    else:\n",
    "        gffIn = data['GFF File']\n",
    "        gffOut = 'GenomesAndGFFs/Euplotes_Octocarinatus_CDS.fasta'\n",
    "        fastaIn = data['Assembly File']\n",
    "        fastaOut = 'GenomesAndGFFs/Euplotes_Octocarinatus.fasta'\n",
    "\n",
    "    # Download gff and fasta\n",
    "    for filein, fileout in [(gffIn,gffOut),(fastaIn,fastaOut)]: \n",
    "        print('\\n'+filein)\n",
    "        try:\n",
    "            urllib.request.urlretrieve(filein, fileout, reporthook)\n",
    "        except:\n",
    "            print('File Not Found: '+filein)\n",
    "        if fileout.endswith('.gz'):\n",
    "            try:\n",
    "                os.system('gunzip '+ fileout)\n",
    "            except:\n",
    "                print(\"An exception ocurred, probably you don't have gzip im the system\")"
   ]
  },
  {
   "cell_type": "code",
   "execution_count": null,
   "metadata": {},
   "outputs": [],
   "source": []
  }
 ],
 "metadata": {
  "hide_input": false,
  "kernelspec": {
   "display_name": "Python 3",
   "language": "python",
   "name": "python3"
  },
  "language_info": {
   "codemirror_mode": {
    "name": "ipython",
    "version": 3
   },
   "file_extension": ".py",
   "mimetype": "text/x-python",
   "name": "python",
   "nbconvert_exporter": "python",
   "pygments_lexer": "ipython3",
   "version": "3.6.5"
  },
  "toc": {
   "base_numbering": 1,
   "nav_menu": {},
   "number_sections": true,
   "sideBar": true,
   "skip_h1_title": false,
   "title_cell": "Table of Contents",
   "title_sidebar": "Contents",
   "toc_cell": false,
   "toc_position": {},
   "toc_section_display": true,
   "toc_window_display": false
  },
  "varInspector": {
   "cols": {
    "lenName": 16,
    "lenType": 16,
    "lenVar": 40
   },
   "kernels_config": {
    "python": {
     "delete_cmd_postfix": "",
     "delete_cmd_prefix": "del ",
     "library": "var_list.py",
     "varRefreshCmd": "print(var_dic_list())"
    },
    "r": {
     "delete_cmd_postfix": ") ",
     "delete_cmd_prefix": "rm(",
     "library": "var_list.r",
     "varRefreshCmd": "cat(var_dic_list()) "
    }
   },
   "types_to_exclude": [
    "module",
    "function",
    "builtin_function_or_method",
    "instance",
    "_Feature"
   ],
   "window_display": false
  }
 },
 "nbformat": 4,
 "nbformat_minor": 2
}
